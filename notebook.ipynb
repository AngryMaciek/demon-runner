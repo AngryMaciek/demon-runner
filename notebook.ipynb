{
 "cells": [
  {
   "cell_type": "markdown",
   "id": "50216469-454c-48f6-91c0-658372c28b6e",
   "metadata": {
    "tags": []
   },
   "source": [
    "# _demon-runner_ vignette"
   ]
  },
  {
   "cell_type": "markdown",
   "id": "272391f9-4424-4245-bcca-4d9538bf602d",
   "metadata": {},
   "source": [
    "INFO"
   ]
  },
  {
   "cell_type": "code",
   "execution_count": null,
   "id": "d45b5ffb-9031-4e9d-9a78-58aa33851ce5",
   "metadata": {},
   "outputs": [],
   "source": [
    "import os"
   ]
  },
  {
   "cell_type": "markdown",
   "id": "2a70ef52-b463-4e00-9906-04e1f59e9bf0",
   "metadata": {},
   "source": [
    "## Prepare files for the workflow"
   ]
  },
  {
   "cell_type": "markdown",
   "id": "543fd71a-9d4b-4f59-bcc7-14a7c256b552",
   "metadata": {},
   "source": [
    "INFO"
   ]
  },
  {
   "cell_type": "markdown",
   "id": "320ff06b-0c5f-4798-af95-904fd6f56cf6",
   "metadata": {},
   "source": [
    "Compile _demon_"
   ]
  },
  {
   "cell_type": "code",
   "execution_count": null,
   "id": "7eff44e9-dcdf-4395-962a-b7a3bfabbd1b",
   "metadata": {},
   "outputs": [],
   "source": [
    "%%bash\n",
    "\n",
    "g++ workflow/src/demon.cpp -o workflow/bin/demon -I/srv/conda/envs/notebook/include/ -lm"
   ]
  },
  {
   "cell_type": "markdown",
   "id": "d05dab78-e22b-4752-bb4d-02174d6c038a",
   "metadata": {},
   "source": [
    "Prepare configfile for the workflow"
   ]
  },
  {
   "cell_type": "code",
   "execution_count": null,
   "id": "c356f448-b28c-4a34-8a63-99b3097cca3a",
   "metadata": {},
   "outputs": [],
   "source": [
    "with open(\"tests/binder/config-template.yml\") as f:\n",
    "    configlines = f.read().splitlines()\n",
    "\n",
    "configlines[16] = \"workflow_repo_path: \\\"\" + os.getcwd() + \"\\\"\"\n",
    "\n",
    "outdir = os.path.join(\n",
    "    os.getcwd(),\n",
    "    \"tests\",\n",
    "    \"binder\",\n",
    "    \"output\"\n",
    ")\n",
    "\n",
    "configlines[20] = \"workflow_analysis_outdir: \\\"\" + outdir + \"\\\"\"\n",
    "\n",
    "with open(\"tests/binder/config.yml\", \"w\") as f:\n",
    "    for line in configlines:\n",
    "        f.write(line + os.linesep)"
   ]
  },
  {
   "cell_type": "markdown",
   "id": "81ae72fc-0d71-4f36-a0eb-6a1940f74934",
   "metadata": {},
   "source": [
    "## Execute the workflow"
   ]
  },
  {
   "cell_type": "code",
   "execution_count": null,
   "id": "b66b066e-78c3-4b3e-95da-a5d556114060",
   "metadata": {},
   "outputs": [],
   "source": [
    "%%bash\n",
    "\n",
    "bash demon-runner.sh \\\n",
    "--configfile tests/binder/config.yml \\\n",
    "--environment local"
   ]
  },
  {
   "cell_type": "markdown",
   "id": "bd34e3bb-6e7f-446e-9f6c-d1619e2418e8",
   "metadata": {},
   "source": [
    "## Example post-processing"
   ]
  },
  {
   "cell_type": "markdown",
   "id": "13234988-3b3b-4779-b684-0c66ae5a4e8f",
   "metadata": {},
   "source": [
    "---"
   ]
  }
 ],
 "metadata": {
  "kernelspec": {
   "display_name": "Python 3 (ipykernel)",
   "language": "python",
   "name": "python3"
  },
  "language_info": {
   "codemirror_mode": {
    "name": "ipython",
    "version": 3
   },
   "file_extension": ".py",
   "mimetype": "text/x-python",
   "name": "python",
   "nbconvert_exporter": "python",
   "pygments_lexer": "ipython3",
   "version": "3.10.2"
  }
 },
 "nbformat": 4,
 "nbformat_minor": 5
}
