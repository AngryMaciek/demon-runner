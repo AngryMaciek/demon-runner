{
 "cells": [
  {
   "cell_type": "markdown",
   "id": "50216469-454c-48f6-91c0-658372c28b6e",
   "metadata": {
    "tags": []
   },
   "source": [
    "### _demon-runner_ vignette"
   ]
  },
  {
   "cell_type": "markdown",
   "id": "272391f9-4424-4245-bcca-4d9538bf602d",
   "metadata": {},
   "source": [
    "The following notebook demonstrates workflow execution with a simple set of simulation parameters."
   ]
  },
  {
   "cell_type": "code",
   "execution_count": null,
   "id": "d45b5ffb-9031-4e9d-9a78-58aa33851ce5",
   "metadata": {},
   "outputs": [],
   "source": [
    "import os\n",
    "from IPython.display import Image"
   ]
  },
  {
   "cell_type": "markdown",
   "id": "2a70ef52-b463-4e00-9906-04e1f59e9bf0",
   "metadata": {},
   "source": [
    "## Prepare files for the workflow"
   ]
  },
  {
   "cell_type": "markdown",
   "id": "543fd71a-9d4b-4f59-bcc7-14a7c256b552",
   "metadata": {},
   "source": [
    "In the example below we will prepare a configuration file varying one specific parameter: deme carrying capacity.\n",
    "\n",
    "All dependencies have been already installed while building a container for this notebook."
   ]
  },
  {
   "cell_type": "markdown",
   "id": "320ff06b-0c5f-4798-af95-904fd6f56cf6",
   "metadata": {},
   "source": [
    "Compile _demon_"
   ]
  },
  {
   "cell_type": "code",
   "execution_count": null,
   "id": "7eff44e9-dcdf-4395-962a-b7a3bfabbd1b",
   "metadata": {},
   "outputs": [],
   "source": [
    "%%bash\n",
    "\n",
    "g++ workflow/src/demon.cpp -o workflow/bin/demon -I/srv/conda/envs/notebook/include/ -lm"
   ]
  },
  {
   "cell_type": "markdown",
   "id": "d05dab78-e22b-4752-bb4d-02174d6c038a",
   "metadata": {},
   "source": [
    "Prepare configfile for the workflow (based on a template)"
   ]
  },
  {
   "cell_type": "code",
   "execution_count": null,
   "id": "c356f448-b28c-4a34-8a63-99b3097cca3a",
   "metadata": {},
   "outputs": [],
   "source": [
    "with open(\"tests/binder/config-template.yml\") as f:\n",
    "    configlines = f.read().splitlines()\n",
    "\n",
    "configlines[16] = \"workflow_repo_path: \\\"\" + os.getcwd() + \"\\\"\"\n",
    "\n",
    "outdir = os.path.join(\n",
    "    os.getcwd(),\n",
    "    \"tests\",\n",
    "    \"binder\",\n",
    "    \"output\"\n",
    ")\n",
    "\n",
    "configlines[20] = \"workflow_analysis_outdir: \\\"\" + outdir + \"\\\"\"\n",
    "\n",
    "with open(\"tests/binder/config.yml\", \"w\") as f:\n",
    "    for line in configlines:\n",
    "        f.write(line + os.linesep)"
   ]
  },
  {
   "cell_type": "markdown",
   "id": "81ae72fc-0d71-4f36-a0eb-6a1940f74934",
   "metadata": {},
   "source": [
    "## Execute the workflow"
   ]
  },
  {
   "cell_type": "markdown",
   "id": "c4726a72-fcdf-4728-b233-3f6e2645d435",
   "metadata": {},
   "source": [
    "We trigger the snakemake workflow via our main bash script (~5min runtime)."
   ]
  },
  {
   "cell_type": "code",
   "execution_count": null,
   "id": "b66b066e-78c3-4b3e-95da-a5d556114060",
   "metadata": {},
   "outputs": [],
   "source": [
    "%%bash\n",
    "\n",
    "time \\\n",
    "bash demon-runner.sh \\\n",
    "--configfile tests/binder/config.yml \\\n",
    "--environment local \\\n",
    "--cores 3"
   ]
  },
  {
   "cell_type": "markdown",
   "id": "bd34e3bb-6e7f-446e-9f6c-d1619e2418e8",
   "metadata": {},
   "source": [
    "## Example post-processing"
   ]
  },
  {
   "cell_type": "markdown",
   "id": "19500a90-3f2f-4633-af23-8898259dace4",
   "metadata": {},
   "source": [
    "In order to quickly glance over simulations' results we shall utilize a [previously developed package](https://github.com/robjohnnoble/demonanalysis) (which is outside the scope if this repository)."
   ]
  },
  {
   "cell_type": "code",
   "execution_count": null,
   "id": "db79802b-7bf8-4adf-b018-ca687ffde17d",
   "metadata": {},
   "outputs": [],
   "source": [
    "%load_ext rpy2.ipython"
   ]
  },
  {
   "cell_type": "code",
   "execution_count": null,
   "id": "01583a94-7556-4714-aaa1-375ead21fcdd",
   "metadata": {},
   "outputs": [],
   "source": [
    "%%R\n",
    "\n",
    "library('demonanalysis')\n",
    "\n",
    "plot_all_images(\n",
    "    path=\"tests/binder/output/simulations/0000\",\n",
    "    output_filename=\"summary\",\n",
    "    output_dir=\"tests/binder/output/simulations/0000\"\n",
    ")\n",
    "\n",
    "plot_all_images(\n",
    "    path=\"tests/binder/output/simulations/0001\",\n",
    "    output_filename=\"summary\",\n",
    "    output_dir=\"tests/binder/output/simulations/0001\"\n",
    ")\n",
    "\n",
    "plot_all_images(\n",
    "    path=\"tests/binder/output/simulations/0002\",\n",
    "    output_filename=\"summary\",\n",
    "    output_dir=\"tests/binder/output/simulations/0002\"\n",
    ")"
   ]
  },
  {
   "cell_type": "markdown",
   "id": "eead47b1-ef50-4bb9-be90-d28f6bbbbcaa",
   "metadata": {},
   "source": [
    "### Inspect the summary plots:"
   ]
  },
  {
   "cell_type": "markdown",
   "id": "eff9f3e0-3afa-45cb-ad7a-f110ff4b1392",
   "metadata": {},
   "source": [
    "$\\log_2$[deme carrying capacity] = 8"
   ]
  },
  {
   "cell_type": "code",
   "execution_count": null,
   "id": "f33b61cf-88e2-4ac3-8dc8-a2ec77d8c646",
   "metadata": {},
   "outputs": [],
   "source": [
    "Image(filename=\"tests/binder/output/simulations/0000/summary.png\") "
   ]
  },
  {
   "cell_type": "markdown",
   "id": "312e607a-655b-4bb5-95af-89532c25ab9c",
   "metadata": {},
   "source": [
    "$\\log_2$[deme carrying capacity] = 9"
   ]
  },
  {
   "cell_type": "code",
   "execution_count": null,
   "id": "303da8c0-3312-4456-8afd-f5ad02f2a88b",
   "metadata": {},
   "outputs": [],
   "source": [
    "Image(filename=\"tests/binder/output/simulations/0001/summary.png\") "
   ]
  },
  {
   "cell_type": "markdown",
   "id": "53edf129-50e3-42d7-b093-7aae293d5c5e",
   "metadata": {},
   "source": [
    "$\\log_2$[deme carrying capacity] = 10"
   ]
  },
  {
   "cell_type": "code",
   "execution_count": null,
   "id": "15c85533-b77c-45b1-9c3a-a95b58ad934e",
   "metadata": {},
   "outputs": [],
   "source": [
    "Image(filename=\"tests/binder/output/simulations/0002/summary.png\") "
   ]
  },
  {
   "cell_type": "markdown",
   "id": "6bacd651-b4f6-4a91-9e2a-6529963cf341",
   "metadata": {},
   "source": [
    "**The simple example above highlights that the higher the deme carrying capacity is the sooner the tumor evolves within the population.**"
   ]
  },
  {
   "cell_type": "markdown",
   "id": "13234988-3b3b-4779-b684-0c66ae5a4e8f",
   "metadata": {},
   "source": [
    "---"
   ]
  }
 ],
 "metadata": {
  "kernelspec": {
   "display_name": "Python 3 (ipykernel)",
   "language": "python",
   "name": "python3"
  },
  "language_info": {
   "codemirror_mode": {
    "name": "ipython",
    "version": 3
   },
   "file_extension": ".py",
   "mimetype": "text/x-python",
   "name": "python",
   "nbconvert_exporter": "python",
   "pygments_lexer": "ipython3",
   "version": "3.8.13"
  }
 },
 "nbformat": 4,
 "nbformat_minor": 5
}
