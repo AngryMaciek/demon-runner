{
 "cells": [
  {
   "cell_type": "markdown",
   "id": "50216469-454c-48f6-91c0-658372c28b6e",
   "metadata": {
    "tags": []
   },
   "source": [
    "# _demon-runner_ vignette"
   ]
  },
  {
   "cell_type": "markdown",
   "id": "272391f9-4424-4245-bcca-4d9538bf602d",
   "metadata": {},
   "source": [
    "INFO"
   ]
  },
  {
   "cell_type": "markdown",
   "id": "2a70ef52-b463-4e00-9906-04e1f59e9bf0",
   "metadata": {},
   "source": [
    "## Prepare files for the workflow"
   ]
  },
  {
   "cell_type": "markdown",
   "id": "543fd71a-9d4b-4f59-bcc7-14a7c256b552",
   "metadata": {},
   "source": [
    "INFO"
   ]
  },
  {
   "cell_type": "markdown",
   "id": "320ff06b-0c5f-4798-af95-904fd6f56cf6",
   "metadata": {},
   "source": [
    "Compile _demon_"
   ]
  },
  {
   "cell_type": "code",
   "execution_count": null,
   "id": "7eff44e9-dcdf-4395-962a-b7a3bfabbd1b",
   "metadata": {},
   "outputs": [],
   "source": [
    "%%bash\n",
    "\n",
    "g++ workflow/src/demon.cpp -o workflow/bin/demon -I/srv/conda/envs/notebook/include/ -lm"
   ]
  },
  {
   "cell_type": "code",
   "execution_count": null,
   "id": "c303c018-3374-4eb3-9762-b701bd965974",
   "metadata": {},
   "outputs": [],
   "source": [
    "# Prepare the configfile"
   ]
  },
  {
   "cell_type": "markdown",
   "id": "81ae72fc-0d71-4f36-a0eb-6a1940f74934",
   "metadata": {},
   "source": [
    "## Execute the workflow"
   ]
  },
  {
   "cell_type": "code",
   "execution_count": null,
   "id": "b66b066e-78c3-4b3e-95da-a5d556114060",
   "metadata": {},
   "outputs": [],
   "source": [
    "%%bash\n",
    "\n",
    "bash demon-runner.sh \\\n",
    "--configfile tests/test1/config-Ubuntu.yml \\\n",
    "--environment local"
   ]
  },
  {
   "cell_type": "markdown",
   "id": "bd34e3bb-6e7f-446e-9f6c-d1619e2418e8",
   "metadata": {},
   "source": [
    "## Example post-processing"
   ]
  },
  {
   "cell_type": "markdown",
   "id": "13234988-3b3b-4779-b684-0c66ae5a4e8f",
   "metadata": {},
   "source": [
    "---"
   ]
  }
 ],
 "metadata": {
  "kernelspec": {
   "display_name": "Python 3 (ipykernel)",
   "language": "python",
   "name": "python3"
  },
  "language_info": {
   "codemirror_mode": {
    "name": "ipython",
    "version": 3
   },
   "file_extension": ".py",
   "mimetype": "text/x-python",
   "name": "python",
   "nbconvert_exporter": "python",
   "pygments_lexer": "ipython3",
   "version": "3.10.2"
  }
 },
 "nbformat": 4,
 "nbformat_minor": 5
}
